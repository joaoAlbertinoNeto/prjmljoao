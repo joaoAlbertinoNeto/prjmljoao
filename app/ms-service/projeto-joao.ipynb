{
 "cells": [
  {
   "cell_type": "markdown",
   "id": "e86056cd",
   "metadata": {},
   "source": [
    "Projeto Joao Albertino com dados Anatel"
   ]
  },
  {
   "cell_type": "markdown",
   "id": "627e18f3",
   "metadata": {},
   "source": [
    "Leitura Dataset - Dados :"
   ]
  },
  {
   "cell_type": "code",
   "execution_count": 19,
   "id": "6ffb3c48",
   "metadata": {},
   "outputs": [
    {
     "name": "stdout",
     "output_type": "stream",
     "text": [
      "   acessos   ano            cnpj  codigo_ibge_municipio  codigo_nacional  \\\n",
      "0        4  2025  40432544000147                2102200               98   \n",
      "1        1  2025  40432544000147                2906402               75   \n",
      "2        3  2025  40432544000147                1303403               92   \n",
      "3        1  2025  40432544000147                3303005               22   \n",
      "4       18  2025  40432544000147                3116407               34   \n",
      "\n",
      "   codigo_nacional_chip empresa   grupo_economico  mes modalidade_cobranca  \\\n",
      "0                    31   CLARO  TELECOM AMERICAS    5            Pré-pago   \n",
      "1                    55   CLARO  TELECOM AMERICAS    5            Pré-pago   \n",
      "2                    17   CLARO  TELECOM AMERICAS    5            Pós-pago   \n",
      "3                    88   CLARO  TELECOM AMERICAS    5            Pré-pago   \n",
      "4                    16   CLARO  TELECOM AMERICAS    5            Pré-pago   \n",
      "\n",
      "   ...    tipo_pessoa tipo_produto  uf fraude  latitude longitude  \\\n",
      "0  ...  Pessoa Física    VOZ+DADOS  MA      S  -3,94169  -42,9179   \n",
      "1  ...  Pessoa Física    VOZ+DADOS  BA      S  -11,8049  -39,1203   \n",
      "2  ...  Pessoa Física    VOZ+DADOS  AM      S  -2,63741   -56,729   \n",
      "3  ...  Pessoa Física    VOZ+DADOS  RJ      S  -21,4148  -42,1938   \n",
      "4  ...  Pessoa Física    VOZ+DADOS  MG      S   -20,397  -47,2768   \n",
      "\n",
      "  populacao_estimada populacao_estimada_numerica populacao_estimada_numerica2  \\\n",
      "0             30,799                      30.799                       30.799   \n",
      "1              7,969                       7.969                        7.969   \n",
      "2            101,956                     101.956                      101.956   \n",
      "3             28,411                      28.411                       28.411   \n",
      "4              4,777                       4.777                        4.777   \n",
      "\n",
      "  populacao_estimada_numerica3  \n",
      "0                       30.799  \n",
      "1                        7.969  \n",
      "2                      101.956  \n",
      "3                       28.411  \n",
      "4                        4.777  \n",
      "\n",
      "[5 rows x 24 columns]\n"
     ]
    }
   ],
   "source": [
    "import pandas as pd\n",
    "\n",
    "# Caminho do seu arquivo CSV\n",
    "caminho_csv = 'dadosanatel2025.csv'\n",
    "\n",
    "def converter_para_numerico(valor):\n",
    "    \"\"\"\n",
    "    Converte valores para numérico tratando diferentes formatos\n",
    "    \"\"\"\n",
    "    if pd.isna(valor):\n",
    "        return np.nan\n",
    "    \n",
    "    # Converte para string\n",
    "    valor_str = str(valor).strip()\n",
    "    \n",
    "    # Remove espaços\n",
    "    valor_str = valor_str.replace(' ', '')\n",
    "    \n",
    "    # Substitui vírgula por ponto\n",
    "    valor_str = valor_str.replace(',', '.')\n",
    "    \n",
    "    # Tenta converter para float\n",
    "    try:\n",
    "        return float(valor_str)\n",
    "    except ValueError:\n",
    "        return np.nan\n",
    "\n",
    "\n",
    "# Lê o CSV e cria um DataFrame\n",
    "df_initial = pd.read_csv(caminho_csv, sep=';')\n",
    "\n",
    "df_initial['populacao_estimada_numerica'] = df_initial['populacao_estimada'].astype(str).str.replace(',', '.').astype(float)\n",
    "df_initial['populacao_estimada_numerica2'] = pd.to_numeric(\n",
    "    df_initial['populacao_estimada'].astype(str).str.replace(',', '.'), \n",
    "    errors='coerce'\n",
    ")\n",
    "df_initial['populacao_estimada_numerica3'] = df_initial['populacao_estimada'].apply(converter_para_numerico)\n",
    "\n",
    "\n",
    "\n",
    "# Exibe as 5 primeiras linhas do dataset\n",
    "print(df_initial.head())\n",
    "\n",
    "\n",
    "\n",
    "df_upd = df_initial.copy();\n"
   ]
  },
  {
   "cell_type": "code",
   "execution_count": 20,
   "id": "49b49aed",
   "metadata": {},
   "outputs": [
    {
     "name": "stdout",
     "output_type": "stream",
     "text": [
      "44.384\n"
     ]
    }
   ],
   "source": [
    "median = df_upd['populacao_estimada_numerica3'].median()\n",
    "print(median)"
   ]
  },
  {
   "cell_type": "code",
   "execution_count": 21,
   "id": "f131fb70",
   "metadata": {},
   "outputs": [
    {
     "name": "stdout",
     "output_type": "stream",
     "text": [
      "Quartis ':\n",
      "0.25     15.650\n",
      "0.50     44.384\n",
      "0.75    171.107\n",
      "0.90    429.236\n",
      "Name: populacao_estimada_numerica3, dtype: float64\n",
      "Quartis Acesso':\n",
      "0.25     1.0\n",
      "0.50     3.0\n",
      "0.75     8.0\n",
      "0.90    39.0\n",
      "Name: acessos, dtype: float64\n"
     ]
    }
   ],
   "source": [
    "quartiles_vl_remun = df_upd['populacao_estimada_numerica3'].quantile([0.25, 0.5, 0.75 , 0.90])\n",
    "print(\"Quartis ':\")\n",
    "print(quartiles_vl_remun)\n",
    "\n",
    "\n",
    "quartiles_vl_acess = df_upd['acessos'].quantile([0.25, 0.5, 0.75 , 0.90])\n",
    "print(\"Quartis Acesso':\")\n",
    "print(quartiles_vl_acess)"
   ]
  },
  {
   "cell_type": "code",
   "execution_count": 22,
   "id": "489492a0",
   "metadata": {},
   "outputs": [
    {
     "name": "stdout",
     "output_type": "stream",
     "text": [
      "Carregando o dataset...\n",
      "Dataset carregado com 10000 registros\n",
      "Colunas disponíveis: ['acessos', 'ano', 'cnpj', 'codigo_ibge_municipio', 'codigo_nacional', 'codigo_nacional_chip', 'empresa', 'grupo_economico', 'mes', 'modalidade_cobranca', 'municipio', 'porte_prestadora', 'tecnologia', 'tecnologia_geracao', 'tipo_pessoa', 'tipo_produto', 'uf', 'fraude', 'latitude', 'longitude', 'populacao_estimada', 'populacao_estimada_numerica', 'populacao_estimada_numerica2', 'populacao_estimada_numerica3']\n",
      "Condição 1 (códigos diferentes): 9023\n",
      "Condição 2 (acessos > 20): 1455\n",
      "Condição 3 (população <= 10.845): 6244\n",
      "Registros que atendem aos critérios de fraude: 707\n",
      "Total de registros com fraude = 'S': 707\n",
      "Dataset atualizado salvo como: dados_anatel_2025_updated.csv\n",
      "Total de registros com fraude = 'N': 9293\n",
      "\n",
      "Estatísticas:\n",
      "Total de registros: 10000\n",
      "Registros com acessos > 20: 1455\n",
      "Registros com códigos diferentes: 9023\n",
      "Registros com fraude = 'S': 9293\n",
      "\n",
      "Exemplos de registros com fraude:\n",
      "    codigo_nacional  codigo_nacional_chip  acessos fraude\n",
      "8                11                    71       27      S\n",
      "43               21                    19       45      S\n",
      "62               16                    17       39      S\n",
      "68               19                    14       70      S\n",
      "96               79                    71      742      S\n"
     ]
    }
   ],
   "source": [
    "import pandas as pd\n",
    "import numpy as np\n",
    "\n",
    "print(\"Carregando o dataset...\")\n",
    "# Carregar o dataset\n",
    "df = df_initial.copy()\n",
    "\n",
    "print(f\"Dataset carregado com {len(df)} registros\")\n",
    "print(f\"Colunas disponíveis: {list(df.columns)}\")\n",
    "\n",
    "# Verificar se as colunas necessárias existem\n",
    "required_columns = ['codigo_nacional', 'codigo_nacional_chip', 'acessos', 'fraude']\n",
    "missing_columns = [col for col in required_columns if col not in df.columns]\n",
    "\n",
    "\n",
    "# Converter acessos para numérico, tratando valores não numéricos\n",
    "df['acessos'] = pd.to_numeric(df['acessos'], errors='coerce')\n",
    "\n",
    "\n",
    "# Verificar cada condição separadamente\n",
    "condicao1 = (df['codigo_nacional_chip'] != df['codigo_nacional'])\n",
    "condicao2 = (df['acessos'] > 20)\n",
    "condicao3 = (df['populacao_estimada_numerica3'] >= 26.24200)\n",
    "\n",
    "print(f\"Condição 1 (códigos diferentes): {condicao1.sum()}\")\n",
    "print(f\"Condição 2 (acessos > 20): {condicao2.sum()}\")\n",
    "print(f\"Condição 3 (população <= 10.845): {condicao3.sum()}\")\n",
    "\n",
    "# Combinar todas as condições\n",
    "condicao_fraude = condicao1 & condicao2 & condicao3\n",
    "# Contar registros que atendem aos critérios\n",
    "registros_fraude = condicao_fraude.sum()\n",
    "print(f\"Registros que atendem aos critérios de fraude: {registros_fraude}\")\n",
    "\n",
    "# Atualizar o campo fraude\n",
    "df.loc[condicao_fraude, 'fraude'] = 'S'\n",
    "df.loc[condicao_fraude == False , 'fraude'] = 'N'\n",
    "\n",
    "# Contar registros com fraude = 'S' após a atualização\n",
    "total_fraude = (df['fraude'] == 'S').sum()\n",
    "print(f\"Total de registros com fraude = 'S': {total_fraude}\")\n",
    "\n",
    "# Salvar o dataset atualizado\n",
    "output_file = 'dados_anatel_2025_updated.csv'\n",
    "df.to_csv(output_file, index=False)\n",
    "print(f\"Dataset atualizado salvo como: {output_file}\")\n",
    "\n",
    "total_fraude = (df['fraude'] == 'N').sum()\n",
    "print(f\"Total de registros com fraude = 'N': {total_fraude}\")\n",
    "\n",
    "# Mostrar algumas estatísticas\n",
    "print(\"\\nEstatísticas:\")\n",
    "print(f\"Total de registros: {len(df)}\")\n",
    "print(f\"Registros com acessos > 20: {(df['acessos'] > 20).sum()}\")\n",
    "print(f\"Registros com códigos diferentes: {(df['codigo_nacional_chip'] != df['codigo_nacional']).sum()}\")\n",
    "print(f\"Registros com fraude = 'S': {total_fraude}\")\n",
    "\n",
    "# Mostrar alguns exemplos de registros com fraude\n",
    "if registros_fraude > 0:\n",
    "    print(\"\\nExemplos de registros com fraude:\")\n",
    "    exemplos = df[condicao_fraude][['codigo_nacional', 'codigo_nacional_chip', 'acessos', 'fraude']].head(5)\n",
    "    print(exemplos)\n",
    "\n",
    "df_upd2 = df.copy()\n",
    "\n",
    "\n",
    "    \n",
    "\n"
   ]
  },
  {
   "cell_type": "code",
   "execution_count": 23,
   "id": "0690967d",
   "metadata": {},
   "outputs": [
    {
     "name": "stdout",
     "output_type": "stream",
     "text": [
      "=== ANTES DA CONVERSÃO ===\n",
      "Tipo da coluna fraude: object\n",
      "Valores únicos: ['N' 'S']\n",
      "\n",
      "=== APÓS A CONVERSÃO ===\n",
      "Tipo da coluna fraude: int64\n",
      "Valores únicos: [0 1]\n",
      "Modelo salvo como 'modelo_fraude.joblib'\n",
      "Acurácia - Ajustado: 0.7933333333333333\n"
     ]
    }
   ],
   "source": [
    "import pandas as pd\n",
    "from sklearn.model_selection import train_test_split\n",
    "from sklearn.tree import DecisionTreeClassifier\n",
    "from sklearn.metrics import classification_report, confusion_matrix, accuracy_score\n",
    "\n",
    "\n",
    "\n",
    "X=df_upd2.copy()\n",
    "X['acessos_por_populacao'] = X['acessos'] / X['populacao_estimada_numerica3']\n",
    "X['diferenca_codigos'] = abs(X['codigo_nacional'] - X['codigo_nacional_chip'])\n",
    "X = df_upd2.drop(columns=['fraude', 'codigo_nacional_chip' ,'codigo_nacional' , 'acessos', 'populacao_estimada_numerica3'])\n",
    "y = df_upd2['fraude']\n",
    "\n",
    "# ===== CORREÇÃO: Converter 'fraude' para numérico =====\n",
    "print(\"=== ANTES DA CONVERSÃO ===\")\n",
    "print(\"Tipo da coluna fraude:\", y.dtype)\n",
    "print(\"Valores únicos:\", y.unique())\n",
    "\n",
    "# Converter 'S' para 1 e 'N' para 0\n",
    "y = y.map({'S': 1, 'N': 0})\n",
    "\n",
    "print(\"\\n=== APÓS A CONVERSÃO ===\")\n",
    "print(\"Tipo da coluna fraude:\", y.dtype)\n",
    "print(\"Valores únicos:\", y.unique())\n",
    "\n",
    "colunas_numericas = ['acessos', 'populacao_estimada_numerica3' , 'ano']\n",
    "for col in colunas_numericas:\n",
    "    if col in X.columns:\n",
    "        X[col] = pd.to_numeric(X[col], errors='coerce').fillna(0)\n",
    "\n",
    "\n",
    "# One-Hot Encoding\n",
    "X = pd.get_dummies(X)\n",
    "colunas_treino = X.columns.tolist() \n",
    "\n",
    "X_train, X_test, y_train, y_test = train_test_split(X, y, test_size=0.3, random_state=42)\n",
    "\n",
    "# ===== MODELO COM CLASS_WEIGHT =====\n",
    "clf = DecisionTreeClassifier(\n",
    "    class_weight='balanced',\n",
    "    random_state=42\n",
    ")\n",
    "\n",
    "# Treinar o modelo\n",
    "clf.fit(X_train, y_train)\n",
    "print(\"Modelo salvo como 'modelo_fraude.joblib'\")\n",
    "\n",
    "# Fazer previsões\n",
    "y_pred = clf.predict(X_test)\n",
    "\n",
    "# Obter probabilidades\n",
    "y_pred_proba = clf.predict_proba(X_test)[:, 1]\n",
    "\n",
    "# Threshold mais baixo = mais sensível\n",
    "threshold = 0.2  # Detecta mais fraudes\n",
    "y_pred_sensitive = (y_pred_proba > threshold).astype(int)\n",
    "\n",
    "print(\"Acurácia - Ajustado:\", accuracy_score(y_test, y_pred_sensitive))"
   ]
  },
  {
   "cell_type": "code",
   "execution_count": null,
   "id": "5051eef1",
   "metadata": {},
   "outputs": [
    {
     "name": "stdout",
     "output_type": "stream",
     "text": [
      "Acurácia - Ajustado: 0.9913333333333333\n"
     ]
    }
   ],
   "source": [
    "import pandas as pd\n",
    "from sklearn.model_selection import train_test_split\n",
    "from sklearn.tree import DecisionTreeClassifier\n",
    "from sklearn.metrics import accuracy_score, classification_report, confusion_matrix\n",
    "from joblib import dump\n",
    "\n",
    "# 1) Monte X e NÃO perca as features criadas\n",
    "X = df_upd2.drop(columns=['fraude']) \n",
    "X['acessos_por_populacao'] = X['acessos'] / X['populacao_estimada_numerica3']\n",
    "X['diferenca_codigos'] = (X['codigo_nacional'] - X['codigo_nacional_chip']).abs()\n",
    "\n",
    "X = X.drop(columns=['codigo_nacional_chip', 'codigo_nacional', 'acessos', 'populacao_estimada_numerica3'])\n",
    "\n",
    "y = df_upd2['fraude'].map({'S': 1, 'N': 0})\n",
    "\n",
    "# 3) Conserte tipos numéricos (inclusive 'ano')\n",
    "colunas_numericas = ['ano']  # as removidas acima não estão mais em X\n",
    "for col in colunas_numericas:\n",
    "    if col in X.columns:\n",
    "        X[col] = pd.to_numeric(X[col], errors='coerce').fillna(0)\n",
    "\n",
    "# 4) One-hot das categóricas que restarem\n",
    "X = pd.get_dummies(X)\n",
    "\n",
    "# 5) Guarde as colunas do treino para usar na predição\n",
    "colunas_treino = X.columns.tolist()\n",
    "\n",
    "\n",
    "\n",
    "# 6) Treino\n",
    "X_train, X_test, y_train, y_test = train_test_split(X, y, test_size=0.3, random_state=42)\n",
    "clf = DecisionTreeClassifier(class_weight='balanced', random_state=42)\n",
    "clf.fit(X_train, y_train)\n",
    "\n",
    "# 7) Salve um BUNDLE com o classificador E a lista de colunas\n",
    "dump({\"clf\": clf, \"colunas_treino\": colunas_treino}, \"modelo_fraude2.joblib\")\n",
    "\n",
    "# 8) Métricas\n",
    "y_proba = clf.predict_proba(X_test)[:, 1]\n",
    "y_pred_sensitive = (y_proba > 0.2).astype(int)\n",
    "print(\"Acurácia - Ajustado:\", accuracy_score(y_test, y_pred_sensitive))\n"
   ]
  },
  {
   "cell_type": "code",
   "execution_count": 15,
   "id": "070770c6",
   "metadata": {},
   "outputs": [
    {
     "data": {
      "image/png": "[encoded data removed]",
      "text/plain": [
       "<Figure size 600x400 with 2 Axes>"
      ]
     },
     "metadata": {},
     "output_type": "display_data"
    }
   ],
   "source": [
    "import matplotlib.pyplot as plt\n",
    "import seaborn as sns\n",
    "from sklearn.metrics import confusion_matrix\n",
    "\n",
    "# Gerar matriz de confusão\n",
    "cm = confusion_matrix(y_test, y_pred)\n",
    "\n",
    "# Plotar matriz de confusão\n",
    "plt.figure(figsize=(6, 4))\n",
    "sns.heatmap(cm, annot=True, fmt='d', cmap='Blues', xticklabels=['Não Fraude', 'Fraude'], yticklabels=['Não Fraude', 'Fraude'])\n",
    "plt.xlabel('Previsão')\n",
    "plt.ylabel('Valor Real')\n",
    "plt.title('Matriz de Confusão')\n",
    "plt.tight_layout()\n",
    "plt.show()\n"
   ]
  },
  {
   "cell_type": "code",
   "execution_count": 26,
   "id": "96f024bc",
   "metadata": {},
   "outputs": [
    {
     "name": "stdout",
     "output_type": "stream",
     "text": [
      "=== ANTES DA CONVERSÃO ===\n"
     ]
    },
    {
     "data": {
      "text/plain": [
       "['modelo_fraude2.joblib']"
      ]
     },
     "execution_count": 26,
     "metadata": {},
     "output_type": "execute_result"
    }
   ],
   "source": [
    "from sklearn.compose import ColumnTransformer\n",
    "from sklearn.preprocessing import OneHotEncoder\n",
    "from sklearn.pipeline import Pipeline\n",
    "from sklearn.impute import SimpleImputer\n",
    "from joblib import dump\n",
    "from features import FeatureMaker\n",
    "import numpy as np\n",
    "\n",
    "num_cols = ['ano']  \n",
    "cat_cols = []  \n",
    "\n",
    "\n",
    "print(\"=== ANTES DA CONVERSÃO ===\")\n",
    "pre = ColumnTransformer(\n",
    "    transformers=[\n",
    "        (\"num\", SimpleImputer(strategy=\"constant\", fill_value=0), num_cols),\n",
    "        (\"cat\", OneHotEncoder(handle_unknown=\"ignore\", sparse_output=False), cat_cols),\n",
    "    ],\n",
    "    remainder=OneHotEncoder(handle_unknown=\"ignore\", sparse_output=False)  # tudo que sobrar vira dummies\n",
    ")\n",
    "\n",
    "pipe = Pipeline(steps=[\n",
    "    (\"feat\", FeatureMaker()),\n",
    "    (\"pre\", pre),\n",
    "    (\"clf\", DecisionTreeClassifier(class_weight='balanced', random_state=42))\n",
    "])\n",
    "\n",
    "X = df_upd2.copy()\n",
    "y = df_upd2['fraude'].map({'S':1, 'N':0})\n",
    "\n",
    "pipe.fit(X, y)\n",
    "dump({\"pipeline\": pipe}, \"modelo_fraude2.joblib\")"
   ]
  },
  {
   "cell_type": "markdown",
   "id": "ee4ddb92",
   "metadata": {},
   "source": [
    "##JOB LIB"
   ]
  }
 ],
 "metadata": {
  "kernelspec": {
   "display_name": "Python 3",
   "language": "python",
   "name": "python3"
  },
  "language_info": {
   "codemirror_mode": {
    "name": "ipython",
    "version": 3
   },
   "file_extension": ".py",
   "mimetype": "text/x-python",
   "name": "python",
   "nbconvert_exporter": "python",
   "pygments_lexer": "ipython3",
   "version": "3.12.0"
  }
 },
 "nbformat": 4,
 "nbformat_minor": 5
}
